{
  "nbformat": 4,
  "nbformat_minor": 0,
  "metadata": {
    "accelerator": "TPU",
    "colab": {
      "name": "Embedding Analysis",
      "provenance": []
    },
    "kernelspec": {
      "display_name": "Python 3",
      "name": "python3"
    }
  },
  "cells": [
    {
      "cell_type": "code",
      "metadata": {
        "id": "9-jKA2HX8-0k"
      },
      "source": [
        "!pip install tensorflow==1.14.0"
      ],
      "execution_count": null,
      "outputs": []
    },
    {
      "cell_type": "code",
      "metadata": {
        "id": "Ko4Eh_BZB7CO"
      },
      "source": [
        "import json\n",
        "import os\n",
        "import pprint\n",
        "import time\n",
        "\n",
        "import tensorflow as tf\n",
        "\n",
        "\n",
        "assert 'COLAB_TPU_ADDR' in os.environ, 'ERROR: Not connected to a TPU runtime; please see the first cell in this notebook for instructions!'\n",
        "TPU_ADDRESS = 'grpc://' + os.environ['COLAB_TPU_ADDR']\n",
        "print('TPU address is', TPU_ADDRESS)\n",
        "\n",
        "from google.colab import auth\n",
        "auth.authenticate_user()\n",
        "with tf.Session(TPU_ADDRESS) as session:\n",
        "  print('TPU devices:')\n",
        "  pprint.pprint(session.list_devices())\n",
        "\n",
        "  # Upload credentials to TPU.\n",
        "  with open('/content/adc.json', 'r') as f:\n",
        "    auth_info = json.load(f)\n",
        "  tf.contrib.cloud.configure_gcs(session, credentials=auth_info)\n",
        "  # Now credentials are set for all future sessions on this TPU."
      ],
      "execution_count": null,
      "outputs": []
    },
    {
      "cell_type": "code",
      "metadata": {
        "id": "oJ8LCbaLCivm"
      },
      "source": [
        "!git clone https://github.com/google-research/bert.git"
      ],
      "execution_count": null,
      "outputs": []
    },
    {
      "cell_type": "code",
      "metadata": {
        "id": "9hIWQSCADeoT"
      },
      "source": [
        "!echo \"'what does the golgi apparatus do to the proteins and lipids once they arrive ? ||| start studying bonding, carbs, proteins, lipids. learn vocabulary, terms, and more with flashcards, games, and other study tools. '\" > input.txt"
      ],
      "execution_count": 10,
      "outputs": []
    },
    {
      "cell_type": "code",
      "metadata": {
        "colab": {
          "base_uri": "https://localhost:8080/"
        },
        "id": "qGY2uChsDvJj",
        "outputId": "76909231-6a9e-49f7-f9df-dbac07661bb3"
      },
      "source": [
        "cd bert"
      ],
      "execution_count": 11,
      "outputs": [
        {
          "output_type": "stream",
          "text": [
            "/content/bert\n"
          ],
          "name": "stdout"
        }
      ]
    },
    {
      "cell_type": "code",
      "metadata": {
        "id": "ca610Il2DO0Z"
      },
      "source": [
        "#change bert_config_file to get embedding for different tasks \n",
        "!python extract_features.py \\\n",
        "  --input_file=../input.txt \\\n",
        "  --output_file=../bert.json \\\n",
        "  --vocab_file=\"gs://irproject_bert2/uncased_L-24_H-1024_A-16/vocab.txt\" \\\n",
        "  --bert_config_file=\"gs://irproject_bert2/uncased_L-24_H-1024_A-16/bert_config.json\" \\\n",
        "  --init_checkpoint=\"gs://irproject_bert2/ir_bert/model.ckpt-100000\" \\\n",
        "  --layers=-1 \\\n",
        "  --max_seq_length=128 \\\n",
        "  --batch_size=8"
      ],
      "execution_count": null,
      "outputs": []
    },
    {
      "cell_type": "code",
      "metadata": {
        "id": "ThdH16KdFL08"
      },
      "source": [
        "import json\n",
        "import numpy as np\n",
        "%matplotlib inline\n",
        "import seaborn as sns\n",
        "import matplotlib.pyplot as plt\n",
        "sns.set_theme(style=\"darkgrid\")\n"
      ],
      "execution_count": 68,
      "outputs": []
    },
    {
      "cell_type": "code",
      "metadata": {
        "id": "MU6J5Qe1FVft"
      },
      "source": [
        "task_name=['qnli','squad','mnli','mrpc','qqp','bert']\n",
        "res_list=[]\n",
        "for i in task_name:\n",
        "  with open('../'+i+'.json') as f:\n",
        "    data = json.load(f)\n",
        "  res_list.append(data['features'][0]['layers'][0]['values'])"
      ],
      "execution_count": 60,
      "outputs": []
    },
    {
      "cell_type": "code",
      "metadata": {
        "id": "Tbd8QENGK3nT"
      },
      "source": [
        "final=np.array(res_list)"
      ],
      "execution_count": 61,
      "outputs": []
    },
    {
      "cell_type": "code",
      "metadata": {
        "colab": {
          "base_uri": "https://localhost:8080/"
        },
        "id": "-wTgCOxYMmKf",
        "outputId": "3c88d6b0-77dc-4785-ce86-f7fb939eef65"
      },
      "source": [
        "final.shape"
      ],
      "execution_count": 62,
      "outputs": [
        {
          "output_type": "execute_result",
          "data": {
            "text/plain": [
              "(6, 1024)"
            ]
          },
          "metadata": {
            "tags": []
          },
          "execution_count": 62
        }
      ]
    },
    {
      "cell_type": "code",
      "metadata": {
        "id": "lEnIH7LbIXQe"
      },
      "source": [
        "from sklearn.manifold import TSNE\n",
        "X_embedded = TSNE(n_components=2).fit_transform(final)"
      ],
      "execution_count": 63,
      "outputs": []
    },
    {
      "cell_type": "code",
      "metadata": {
        "id": "8V7eyOQBIavi"
      },
      "source": [
        "X_embedded"
      ],
      "execution_count": null,
      "outputs": []
    },
    {
      "cell_type": "code",
      "metadata": {
        "colab": {
          "base_uri": "https://localhost:8080/",
          "height": 268
        },
        "id": "_Lr7tyAJIySg",
        "outputId": "ff25db3e-1140-47ca-ed7e-918fd377796d"
      },
      "source": [
        "sns_plot=sns.scatterplot(x=X_embedded[:,0],y=X_embedded[:,1],hue=list(map(lambda x: x.upper(),task_name)))\n"
      ],
      "execution_count": 71,
      "outputs": [
        {
          "output_type": "display_data",
          "data": {
            "image/png": "[encoded data removed]",
            "text/plain": [
              "<Figure size 432x288 with 1 Axes>"
            ]
          },
          "metadata": {
            "tags": []
          }
        }
      ]
    },
    {
      "cell_type": "code",
      "metadata": {
        "id": "ivTVzdw1JBPJ"
      },
      "source": [
        "sns_plot.figure.savefig(\"../output.png\")"
      ],
      "execution_count": 73,
      "outputs": []
    }
  ]
}